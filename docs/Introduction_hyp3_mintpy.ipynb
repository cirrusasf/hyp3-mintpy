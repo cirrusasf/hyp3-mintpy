{
 "cells": [
  {
   "cell_type": "markdown",
   "metadata": {},
   "source": [
    "# Introduction to time-series analysis of HyP3 product with MintPy"
   ]
  },
  {
   "cell_type": "markdown",
   "metadata": {},
   "source": [
    "Introduction"
   ]
  },
  {
   "cell_type": "markdown",
   "metadata": {},
   "source": [
    "1. Installation\n",
    "The installation includes three parts. Download the code, create a local conda environment, and set up runtime environment and authiorization file. "
   ]
  },
  {
   "cell_type": "code",
   "execution_count": null,
   "metadata": {},
   "outputs": [],
   "source": [
    "1.1 edit ~/.bashrc to set environment variables\n",
    "export HYP3MINTPY_BASE=/home/jzhu4/projects/work/hyp3\n",
    "export HYP3MINTPY_HOME=${HYP3MINTPY_BASE}/hyp3-mintpy\n",
    "export MINTPY_HOME=${HYP3MINTPY_HOME}/MintPy\n",
    "export PYAPS_HOME=${HYP3MINTPY_HOME}/PyAPS\n",
    "export WEATHER_DIR=/media/jzhu4/my1text4/data/mintpy_data\n",
    "export PATH=${PATH}:${MINTPY_HOME}/mintpy\n",
    "export PYTHONPATH=${PYTHONPATH}:${MINTPY_HOME}:${PYAPS_HOME}:${HYP3MINTPY_HOME}"
   ]
  },
  {
   "cell_type": "code",
   "execution_count": null,
   "metadata": {},
   "outputs": [],
   "source": [
    "1.2. edit ~/.netrc to include your EDL username and password\n",
    "machine urs.earthdata.nasa.gov\n",
    "         login <EDL username>\n",
    "         password <EDL password>"
   ]
  },
  {
   "cell_type": "code",
   "execution_count": null,
   "metadata": {},
   "outputs": [],
   "source": [
    "1.3. download hyp3-mintpy, MintPy, and PyAPS repos"
   ]
  },
  {
   "cell_type": "code",
   "execution_count": null,
   "metadata": {},
   "outputs": [],
   "source": [
    "%env HYP3MINTPY_REPO=git@github.com:ASFHyP3/hyp3-mintpy.git\n",
    "%env MintPy_REPO=git@github.com:insarlab/MintPy.git\n",
    "%env PyAPS_REPO=https://github.com/yunjunz/PyAPS.git\n"
   ]
  },
  {
   "cell_type": "code",
   "execution_count": null,
   "metadata": {},
   "outputs": [],
   "source": [
    "%%bash\n",
    "echo ${HYP3MINTPY_BASE}\n",
    "cd ${HYP3MINTPY_BASE}\n",
    "#git clon ${HYP3MINTPY_REPO}\n",
    "cd ${HYP3MINTPY_HOME}\n",
    "#git clone ${MintPy_REPO}\n",
    "#git clone ${PyAPS_REPO}"
   ]
  },
  {
   "cell_type": "markdown",
   "metadata": {},
   "source": [
    "1.4. create conda environment named hyp3-mintpy"
   ]
  },
  {
   "cell_type": "code",
   "execution_count": null,
   "metadata": {
    "scrolled": false
   },
   "outputs": [],
   "source": [
    "%%bash\n",
    "cd ${HYP3MINTPY_HOME}\n",
    "conda env create -f conda_env_hyp3_mintpy.yml -n hyp3-mintpy\n",
    "conda activate hyp3-mintpy"
   ]
  },
  {
   "cell_type": "code",
   "execution_count": null,
   "metadata": {},
   "outputs": [],
   "source": [
    "1.5. install local packages"
   ]
  },
  {
   "cell_type": "code",
   "execution_count": null,
   "metadata": {},
   "outputs": [],
   "source": [
    "%%bash\n",
    "cd ${HYP3MINTPY_HOME}\n",
    "python -m pip install -e ./\n",
    "pytohn -m pip install Mintpy\n",
    "python -m pip install PyAPS"
   ]
  },
  {
   "cell_type": "code",
   "execution_count": null,
   "metadata": {},
   "outputs": [],
   "source": [
    "1.6. make the conda env hyp3-mintpy accessible to jupyter notebook"
   ]
  },
  {
   "cell_type": "code",
   "execution_count": null,
   "metadata": {},
   "outputs": [],
   "source": [
    "%%bash\n",
    "conda install -c anaconda ipykernel\n",
    "python -m ipykernel install --user --name=hyp3-mintpy"
   ]
  },
  {
   "cell_type": "markdown",
   "metadata": {},
   "source": [
    "You need close your jupyter notebook server, then lauch it again. Now you can choose the hyp3-mintpy \n",
    "environment as your kernal. After you complish yhe installation, you do not need run these installation \n",
    "steps(1-7) again."
   ]
  },
  {
   "cell_type": "code",
   "execution_count": null,
   "metadata": {},
   "outputs": [],
   "source": [
    "2. Run the application"
   ]
  },
  {
   "cell_type": "markdown",
   "metadata": {},
   "source": [
    "2.1. Download the hyp3 data"
   ]
  },
  {
   "cell_type": "code",
   "execution_count": null,
   "metadata": {},
   "outputs": [],
   "source": [
    "import os\n",
    "from hyp3mintpy.insartimeseriesanalysis import *\n",
    "hyp3_mintpy_home = \"/home/jzhu4/projects/work/hyp3/hyp3-mintpy\"\n",
    "outdir = \"/media/jzhu4/data/hyp3-mintpy/case3\"\n",
    "granule_list = \"/media/jzhu4/data/hyp3-mintpy/case3/granule.dat\"\n",
    "os.chdir(outdir)"
   ]
  },
  {
   "cell_type": "code",
   "execution_count": null,
   "metadata": {},
   "outputs": [],
   "source": [
    "run_job(granule_list, outdir)"
   ]
  },
  {
   "cell_type": "markdown",
   "metadata": {},
   "source": [
    "downloaded the zip files are stored at ${outdir}"
   ]
  },
  {
   "cell_type": "markdown",
   "metadata": {},
   "source": [
    "2.2 Configure the custom.cfg.It creates the ${projectname}.cfg in the ${outdir}"
   ]
  },
  {
   "cell_type": "code",
   "execution_count": null,
   "metadata": {},
   "outputs": [],
   "source": [
    "projectname = \"case3\"\n",
    "template_file =\"{}/config/hyp3_mintpy_template.cfg\".format(hyp3_mintpy_home)\n",
    "config(template_file, outdir, projectname)\n",
    "config_file = \"{outdir}/{projectname}.cfg\".format(outdir=outdir, projectname=projectname)"
   ]
  },
  {
   "cell_type": "markdown",
   "metadata": {},
   "source": [
    "prepare the data\n",
    "Defore time-series analysis with mintpy, data must be in certain struct in the ${outdir}.  "
   ]
  },
  {
   "cell_type": "code",
   "execution_count": null,
   "metadata": {},
   "outputs": [],
   "source": [
    "config_file = \"{outdir}/{projectname}.cfg\".format(outdir=outdir, projectname=projectname)\n",
    "f=open(config_file)\n",
    "lines = f.readlines()\n",
    "print(\"\\n\".join(lines))\n",
    "f.close()"
   ]
  },
  {
   "cell_type": "markdown",
   "metadata": {},
   "source": [
    "2.3 prepare the data\n",
    "make the data in the certain directory structure. clip the whole geotiff files. "
   ]
  },
  {
   "cell_type": "code",
   "execution_count": null,
   "metadata": {},
   "outputs": [],
   "source": [
    "prep_data_struc(outdir, config_file)"
   ]
  },
  {
   "cell_type": "markdown",
   "metadata": {},
   "source": [
    "2.4 Run Time-series Analysis application\n"
   ]
  },
  {
   "cell_type": "code",
   "execution_count": null,
   "metadata": {},
   "outputs": [],
   "source": [
    "from mintpy import smallbaselineApp\n",
    "argv =[]\n",
    "argv.append(config_file)\n",
    "smallbaselineApp.main(argv)"
   ]
  },
  {
   "cell_type": "markdown",
   "metadata": {},
   "source": [
    "2.5 Display the analysis results\n",
    "\n",
    "There are a few scripts used to display the analysis results. There are in the MINTPY_HOME/mintpy. Here we show two majoy disaply scripts."
   ]
  },
  {
   "cell_type": "markdown",
   "metadata": {},
   "source": [
    "2.5.1 Disaply time-series of displacements\n"
   ]
  },
  {
   "cell_type": "code",
   "execution_count": null,
   "metadata": {},
   "outputs": [],
   "source": [
    "from mintpy import tsview\n",
    "\n",
    "os.chdir(outdir)\n",
    "\n",
    "file=\"timeseries.h5\"\n",
    "argv =[]\n",
    "argv.append(file)\n",
    "print(argv)"
   ]
  },
  {
   "cell_type": "code",
   "execution_count": null,
   "metadata": {},
   "outputs": [],
   "source": [
    "%matplotlib notebook\n",
    "tsview.main(argv)"
   ]
  },
  {
   "cell_type": "markdown",
   "metadata": {},
   "source": [
    "2.5.2. Display velocity of the displacements"
   ]
  },
  {
   "cell_type": "code",
   "execution_count": null,
   "metadata": {},
   "outputs": [],
   "source": [
    "from mintpy import view\n",
    "file = \"velocity.h5\"\n",
    "argv =[]\n",
    "argv.append(file)\n",
    "print(argv)"
   ]
  },
  {
   "cell_type": "code",
   "execution_count": null,
   "metadata": {},
   "outputs": [],
   "source": [
    "view.main(argv)"
   ]
  },
  {
   "cell_type": "code",
   "execution_count": null,
   "metadata": {},
   "outputs": [],
   "source": []
  }
 ],
 "metadata": {
  "kernelspec": {
   "display_name": "hyp3-mintpy",
   "language": "python",
   "name": "hyp3-mintpy"
  },
  "language_info": {
   "codemirror_mode": {
    "name": "ipython",
    "version": 3
   },
   "file_extension": ".py",
   "mimetype": "text/x-python",
   "name": "python",
   "nbconvert_exporter": "python",
   "pygments_lexer": "ipython3",
   "version": "3.8.10"
  }
 },
 "nbformat": 4,
 "nbformat_minor": 4
}
