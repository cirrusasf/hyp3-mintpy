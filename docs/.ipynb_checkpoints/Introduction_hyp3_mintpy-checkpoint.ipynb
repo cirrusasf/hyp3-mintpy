{
 "cells": [
  {
   "cell_type": "markdown",
   "metadata": {},
   "source": [
    "# Introduction to time-series analysis of HyP3 product with MintPy"
   ]
  },
  {
   "cell_type": "markdown",
   "metadata": {},
   "source": [
    "Introduction"
   ]
  },
  {
   "cell_type": "markdown",
   "metadata": {},
   "source": [
    "Installation"
   ]
  },
  {
   "cell_type": "markdown",
   "metadata": {},
   "source": [
    "Data preparation"
   ]
  },
  {
   "cell_type": "markdown",
   "metadata": {},
   "source": [
    "Download the hyp3 data"
   ]
  },
  {
   "cell_type": "code",
   "execution_count": 19,
   "metadata": {
    "scrolled": true
   },
   "outputs": [],
   "source": [
    "import os\n",
    "from hyp3mintpy.insartimeseriesanalysis import *\n",
    "hyp3_mintpy_home = \"/home/jzhu4/projects/work/hyp3/hyp3-mintpy\"\n",
    "outdir = \"/media/jzhu4/data/hyp3-mintpy/case3\"\n",
    "granule_list = \"/media/jzhu4/data/hyp3-mintpy/case3/granule.dat\"\n",
    "os.chdir(outdir)"
   ]
  },
  {
   "cell_type": "code",
   "execution_count": 20,
   "metadata": {},
   "outputs": [
    {
     "name": "stdout",
     "output_type": "stream",
     "text": [
      "/media/jzhu4/data/hyp3-mintpy/case3\n"
     ]
    }
   ],
   "source": [
    "run_job(granule_list, outdir)"
   ]
  },
  {
   "cell_type": "markdown",
   "metadata": {},
   "source": [
    "downloaded the zip files are stored at ${outdir}"
   ]
  },
  {
   "cell_type": "markdown",
   "metadata": {},
   "source": [
    "configure the custom.cfg, it create a ${projectname}.cfg in the ${outdir}"
   ]
  },
  {
   "cell_type": "code",
   "execution_count": 22,
   "metadata": {},
   "outputs": [],
   "source": [
    "projectname = \"yourchoice\"\n",
    "template_file =\"{}/config/hyp3_mintpy_template.cfg\".format(hyp3_mintpy_home)\n",
    "config(template_file, outdir, projectname)"
   ]
  },
  {
   "cell_type": "markdown",
   "metadata": {},
   "source": [
    "prepare the data\n",
    "Defore time-series analysis with mintpy, data must be in certain struct in the ${outdir}.  "
   ]
  },
  {
   "cell_type": "code",
   "execution_count": null,
   "metadata": {},
   "outputs": [],
   "source": [
    "config_file = \"${outdir}/${projectname}.cfg\".format(outdir=outdir, projectname=projectname)\n",
    "prep_data_struc(outdir, config_file)"
   ]
  },
  {
   "cell_type": "code",
   "execution_count": null,
   "metadata": {},
   "outputs": [],
   "source": [
    "Conclusion"
   ]
  }
 ],
 "metadata": {
  "kernelspec": {
   "display_name": "hyp3-mintpy",
   "language": "python",
   "name": "hyp3-mintpy"
  },
  "language_info": {
   "codemirror_mode": {
    "name": "ipython",
    "version": 3
   },
   "file_extension": ".py",
   "mimetype": "text/x-python",
   "name": "python",
   "nbconvert_exporter": "python",
   "pygments_lexer": "ipython3",
   "version": "3.8.10"
  }
 },
 "nbformat": 4,
 "nbformat_minor": 4
}
